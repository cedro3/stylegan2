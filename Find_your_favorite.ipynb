{
  "nbformat": 4,
  "nbformat_minor": 0,
  "metadata": {
    "accelerator": "GPU",
    "colab": {
      "name": "Find_your_favorite",
      "provenance": [],
      "toc_visible": true,
      "include_colab_link": true
    },
    "kernelspec": {
      "display_name": "Python 3",
      "language": "python",
      "name": "python3"
    },
    "language_info": {
      "codemirror_mode": {
        "name": "ipython",
        "version": 3
      },
      "file_extension": ".py",
      "mimetype": "text/x-python",
      "name": "python",
      "nbconvert_exporter": "python",
      "pygments_lexer": "ipython3",
      "version": "3.7.2"
    }
  },
  "cells": [
    {
      "cell_type": "markdown",
      "metadata": {
        "id": "view-in-github",
        "colab_type": "text"
      },
      "source": [
        "<a href=\"https://colab.research.google.com/github/cedro3/stylegan2/blob/master/Find_your_favorite.ipynb\" target=\"_parent\"><img src=\"https://colab.research.google.com/assets/colab-badge.svg\" alt=\"Open In Colab\"/></a>"
      ]
    },
    {
      "cell_type": "markdown",
      "metadata": {
        "id": "VWtBaGbmLubM"
      },
      "source": [
        "# Find_your_favotite "
      ]
    },
    {
      "cell_type": "markdown",
      "metadata": {
        "id": "7bAVpVONtwUw"
      },
      "source": [
        "# 1.Set up\n",
        "Githubからコードを取得します。\n"
      ]
    },
    {
      "cell_type": "code",
      "metadata": {
        "id": "lyI-JqcYsmbT"
      },
      "source": [
        "!pip install tensorflow==1.15.0\n",
        "!pip install keras==2.2.4\n",
        "!git clone https://github.com/cedro3/stylegan2.git\n",
        "%cd stylegan2"
      ],
      "execution_count": null,
      "outputs": []
    },
    {
      "cell_type": "markdown",
      "metadata": {
        "id": "q2888xinEbn_"
      },
      "source": [
        "# 2.Difine function\n",
        "関数を３つ定義します。\\\n",
        "**generate_images** : バッチサイズのベクトルを渡すと画像を表示し、画像は'pic1'フォルダーに上書き保存(最大１００個)。\\\n",
        "**style_mix_example** : ７つのベクトルを渡すと２×５のstyle_mixing結果を表示し、画像は'pic2'フォルダーに上書き保存。\\\n",
        "**generate_gif** : ２つのベクトルを渡すと補完してgifアニメーションを作成し、'gif'フォルダーに上書き保存。\n",
        "\n",
        "\n"
      ]
    },
    {
      "cell_type": "code",
      "metadata": {
        "id": "Vy0X1lN4snTJ"
      },
      "source": [
        "import argparse\n",
        "import numpy as np\n",
        "import PIL.Image\n",
        "import dnnlib\n",
        "import dnnlib.tflib as tflib\n",
        "import re\n",
        "import sys\n",
        "import pretrained_networks\n",
        "import matplotlib.pyplot as plt\n",
        "import tensorflow as tf\n",
        "import os\n",
        "from tqdm import trange\n",
        "\n",
        "def generate_images(vectors):\n",
        "    network_pkl = 'gdrive:networks/stylegan2-ffhq-config-f.pkl'\n",
        "    truncation_psi = 0.5  \n",
        "    _G, _D, Gs = pretrained_networks.load_networks(network_pkl)\n",
        "    noise_vars = [var for name, var in Gs.components.synthesis.vars.items() if name.startswith('noise')]\n",
        "\n",
        "    Gs_kwargs = dnnlib.EasyDict()\n",
        "    Gs_kwargs.output_transform = dict(func=tflib.convert_images_to_uint8, nchw_to_nhwc=True)\n",
        "    Gs_kwargs.randomize_noise = True\n",
        "    if truncation_psi is not None:\n",
        "        Gs_kwargs.truncation_psi = truncation_psi\n",
        "\n",
        "    fig = plt.figure(figsize=(30, 40))\n",
        "    os.makedirs('pic1', exist_ok=True)    \n",
        "    for i in trange(len(vectors)):\n",
        "        images = Gs.run(vectors[i], None, **Gs_kwargs) \n",
        "        PIL.Image.fromarray(images[0], 'RGB').save('./pic1/'+str(i)+'.png')     \n",
        " \n",
        "        ax = fig.add_subplot(10, 10, i+1, xticks=[], yticks=[])\n",
        "        image_plt = np.array(images[0])\n",
        "        ax.imshow(image_plt)\n",
        "        ax.set_xlabel(str(i), fontsize=20)               \n",
        "    plt.show()\n",
        "    plt.close()\n",
        "\n",
        "\n",
        "def style_mixing_example(vectors):  \n",
        "    network_pkl = 'gdrive:networks/stylegan2-ffhq-config-f.pkl'\n",
        "    row_seeds = [1, 2]\n",
        "    col_seeds = [3, 4, 5, 6, 7]\n",
        "    col_styles = [0, 1, 2, 3, 4, 5] \n",
        "    truncation_psi = 0.5\n",
        "    minibatch_size = 4\n",
        "\n",
        "    # Loading networks \n",
        "    _G, _D, Gs = pretrained_networks.load_networks(network_pkl)\n",
        "    w_avg = Gs.get_var('dlatent_avg') # [component]\n",
        "\n",
        "    Gs_syn_kwargs = dnnlib.EasyDict()\n",
        "    Gs_syn_kwargs.output_transform = dict(func=tflib.convert_images_to_uint8, nchw_to_nhwc=True)\n",
        "    Gs_syn_kwargs.randomize_noise = False\n",
        "    Gs_syn_kwargs.minibatch_size = minibatch_size\n",
        "\n",
        "    # Generating W vectors\n",
        "    all_seeds = list(row_seeds + col_seeds)   \n",
        "    all_z = vectors\n",
        "    all_w = Gs.components.mapping.run(all_z, None) # [minibatch, layer, component]\n",
        "    all_w = w_avg + (all_w - w_avg) * truncation_psi # [minibatch, layer, component] \n",
        "    w_dict = {seed: w for seed, w in zip(all_seeds, list(all_w))} # [layer, component]\n",
        "\n",
        "    print('Generating images...') \n",
        "    all_images = Gs.components.synthesis.run(all_w, **Gs_syn_kwargs) # [minibatch, height, width, channel]\n",
        "    image_dict = {(seed, seed): image for seed, image in zip(all_seeds, list(all_images))}\n",
        "\n",
        "    print('Generating style-mixed images...')\n",
        "    for row_seed in row_seeds:\n",
        "        for col_seed in col_seeds:\n",
        "            w = w_dict[row_seed].copy()\n",
        "            w[col_styles] = w_dict[col_seed][col_styles]\n",
        "            image = Gs.components.synthesis.run(w[np.newaxis], **Gs_syn_kwargs)[0]\n",
        "            image_dict[(row_seed, col_seed)] = image\n",
        "\n",
        "    print('Saving images...')\n",
        "    os.makedirs('pic2', exist_ok=True)\n",
        "    for (row_seed, col_seed), image in image_dict.items():\n",
        "        PIL.Image.fromarray(image, 'RGB').save('./pic2/'+str(row_seed)+'-'+str(col_seed)+'.png')\n",
        "\n",
        "    print('Saving image grid...')\n",
        "    _N, _C, H, W = Gs.output_shape\n",
        "    canvas = PIL.Image.new('RGB', (W * (len(col_seeds) + 1), H * (len(row_seeds) + 1)), 'black')\n",
        "\n",
        "    r, c = 3, 6  # スクリーン設定（３行×６列）\n",
        "    fig, axs = plt.subplots(r, c, figsize=(16,8), subplot_kw=({'xticks':(),'yticks':()}))\n",
        "\n",
        "    for row_idx, row_seed in enumerate([None] + row_seeds):\n",
        "        for col_idx, col_seed in enumerate([None] + col_seeds):\n",
        "            if row_seed is None and col_seed is None:\n",
        "                continue\n",
        "            key = (row_seed, col_seed)\n",
        "            if row_seed is None:\n",
        "                key = (col_seed, col_seed)\n",
        "            if col_seed is None:\n",
        "                key = (row_seed, row_seed)\n",
        "            canvas.paste(PIL.Image.fromarray(image_dict[key], 'RGB'), (W * col_idx, H * row_idx)) \n",
        "\n",
        "            # スクリーンに画像配置            \n",
        "            image_plt = np.array(image_dict[key])\n",
        "            axs[row_idx, col_idx].imshow(image_plt)\n",
        "            if row_seed is None:\n",
        "                x, y = col_seed, col_seed\n",
        "            elif col_seed is None:\n",
        "                x, y = row_seed, row_seed\n",
        "            else:\n",
        "                x, y = row_seed, col_seed\n",
        "            axs[row_idx, col_idx].set_xlabel(str(x)+'-'+str(y))\n",
        "\n",
        "    canvas.save('./pic2/grid.png') \n",
        "\n",
        "    # スクリーン表示\n",
        "    black = np.zeros((1024,1024,3))  # 黒画像作成\n",
        "    axs[0,0].imshow(black)\n",
        "    axs[0,0].axis('off')\n",
        "    plt.show()\n",
        "    plt.close()   \n",
        "\n",
        "\n",
        "def generate_gif(vec0,vec1):\n",
        "    network_pkl = 'gdrive:networks/stylegan2-ffhq-config-f.pkl'\n",
        "    truncation_psi = 0.5  # 0.5\n",
        "    \n",
        "    _G, _D, Gs = pretrained_networks.load_networks(network_pkl)\n",
        "    noise_vars = [var for name, var in Gs.components.synthesis.vars.items() if name.startswith('noise')]\n",
        "\n",
        "    Gs_kwargs = dnnlib.EasyDict()\n",
        "    Gs_kwargs.output_transform = dict(func=tflib.convert_images_to_uint8, nchw_to_nhwc=True)\n",
        "    Gs_kwargs.randomize_noise = True # False\n",
        "    if truncation_psi is not None:\n",
        "        Gs_kwargs.truncation_psi = truncation_psi\n",
        "\n",
        "    image_gif = []\n",
        "    image_gif_256 = []\n",
        "    os.makedirs('gif', exist_ok=True)    \n",
        "    for i in range(40):\n",
        "        vec = vec0+(vec1-vec0)*i/39\n",
        "        images = Gs.run(vec, None, **Gs_kwargs) \n",
        "        image_one = PIL.Image.fromarray(images[0], 'RGB')#.save('picture/vec_'+str(i)+'.png')  \n",
        "        image_gif.append(image_one)\n",
        "        image_gif_256.append(image_one.resize((256,256))) \n",
        "\n",
        "    image_gif[0].save('./gif/movie.gif', save_all=True, append_images=image_gif[1:],\n",
        "                      duration=100, loop=0)\n",
        "    image_gif_256[0].save('./gif/movie_256.gif', save_all=True, append_images=image_gif_256[1:],\n",
        "                      duration=100, loop=0)\n",
        "    print('complete !')  "
      ],
      "execution_count": null,
      "outputs": []
    },
    {
      "cell_type": "markdown",
      "metadata": {
        "id": "E5cBFupYv_3R"
      },
      "source": [
        "# 3.Generate your favorite images\n",
        "　コードを実行すると、５つのランダムベクトルから画像を生成しますので、好みのベクトルがあれば **plusベクトル**に蓄積し、嫌いなベクトルがあれば **minusベクトル**に蓄積します。すると、**徐々に自分好みの画像が生成される**ようになります。\\\n",
        "　生成した画像は、'pic1'フォルダーに上書き保存(0.png〜4.png)されますので、必要があればその都度ダウンロードして下さい。\\\n",
        "※初回は、pluginの設定があるので処理に時間が掛かりますが、２回目以降は早いです。"
      ]
    },
    {
      "cell_type": "code",
      "metadata": {
        "id": "aru58lP07K-b"
      },
      "source": [
        "#　初期化\n",
        "np.random.seed(10) \n",
        "vectors = np.zeros((5,512))\n",
        "plus_vector = np.zeros((1,512))\n",
        "minus_vector = np.zeros((1,512))"
      ],
      "execution_count": null,
      "outputs": []
    },
    {
      "cell_type": "code",
      "metadata": {
        "id": "7LGvrYNC6-wR"
      },
      "source": [
        "#@title please, you change the selected action if you need. \n",
        "No_0 = 'nothing' #@param ['plus', 'nothing', 'minus']\n",
        "No_1 = 'nothing' #@param ['plus', 'nothing', 'minus']\n",
        "No_2 = 'nothing' #@param ['plus', 'nothing', 'minus']\n",
        "No_3 = 'nothing' #@param ['plus', 'nothing', 'minus']\n",
        "No_4 = 'plus' #@param ['plus', 'nothing', 'minus']\n",
        "vec = [No_0, No_1, No_2, No_3, No_4]\n",
        "\n",
        "for i in range(len(vectors)):\n",
        "    if vec[i] == 'plus':\n",
        "      plus_vector = np.concatenate([plus_vector, vectors[i].reshape([1,512])],axis=0)\n",
        "\n",
        "    if vec[i] == 'minus':\n",
        "      minus_vector = np.concatenate([minus_vector, vectors[i].reshape([1,512])], axis=0)\n",
        "\n",
        "plus_vector_mean = np.mean(plus_vector, axis=0) # plus_vectorの平均をとる\n",
        "minus_vector_mean = np.mean(minus_vector, axis=0)  # minus_vectorの平均をとる\n",
        "\n",
        "vectors = np.random.normal(0, 1, (5,1,512))  # ランダムベクトル取得\n",
        "vectors = vectors + plus_vector_mean - minus_vector_mean  # ベクトルの補正\n",
        "generate_images(vectors)\n",
        "\n",
        "print('number of plus_vector = ', len(plus_vector)-1)\n",
        "print('number of minus_vector = ', len(minus_vector)-1)"
      ],
      "execution_count": null,
      "outputs": []
    },
    {
      "cell_type": "markdown",
      "metadata": {
        "id": "ahmsHCooySFs"
      },
      "source": [
        "# 4.Generate your favorite images using style_mixing\n",
        "　コードを実行すると、７つのランダムベクトルで、２行×５列のstyle_mixingを行います。５つの行方向のベクトルには、plusベクトルとminusベクトルの補正が効かせてあります。２つの列方向のベクトルには効かせていません。\\\n",
        "　好みの画像に、style_mixingで若干変化を与えることで、さらに良いものを探します。\\\n",
        "　生成した画像(1-1.png 〜 7-7.png & grid.png)は、'pic2'フォルダーに上書き保存されますので、必要があればその都度ダウンロードして下さい。\n"
      ]
    },
    {
      "cell_type": "code",
      "metadata": {
        "id": "RWjd9WFAxBLJ"
      },
      "source": [
        "vectors_row = np.random.normal(0, 1, (2,512))\n",
        "vectors_col = np.random.normal(0, 1, (5,512)) + plus_vector_mean - minus_vector_mean\n",
        "vectors = np.concatenate([vectors_row, vectors_col])\n",
        "style_mixing_example(vectors)"
      ],
      "execution_count": null,
      "outputs": []
    },
    {
      "cell_type": "markdown",
      "metadata": {
        "id": "OwvU-DhNC2fg"
      },
      "source": [
        "# 5.Gif animation\n",
        "　最初のコードを実行すると、１００個のランダムベクトルで画像を生成します(約２分程度掛かります）。その中から２つのベクトルを指定して次のコードを実行すると、ベクトル間を補完したアニメーションを作成します。\\\n",
        "　'pic1'フォルダーに生成した画像 (0.png 〜 99.png) が上書き保存されますので、必要があればその都度ダウンロードして下さい。\\\n",
        "　'gif'フォルダーに、movie.gif (1028×1028サイズ)、movie_256.gif (256×256サイズ)を上書き保存されますので、必要があればその都度ダウンロードして下さい。"
      ]
    },
    {
      "cell_type": "code",
      "metadata": {
        "colab": {
          "background_save": true
        },
        "id": "QpnM6u4X3MdS"
      },
      "source": [
        "# 100個のベクトルで画像を生成\n",
        "vectors = np.random.normal(0, 1, (100,1,512))  \n",
        "generate_images(vectors)  "
      ],
      "execution_count": null,
      "outputs": []
    },
    {
      "cell_type": "code",
      "metadata": {
        "id": "_moa9B-fkrL2"
      },
      "source": [
        "# ２つのベクトルを指定し、アニメーションを作成\n",
        "generate_gif(vectors[43], vectors[50])  "
      ],
      "execution_count": null,
      "outputs": []
    }
  ]
}
