{
  "cells": [
    {
      "cell_type": "markdown",
      "metadata": {
        "id": "view-in-github",
        "colab_type": "text"
      },
      "source": [
        "<a href=\"https://colab.research.google.com/github/cedro3/stylegan2/blob/master/generate_ayadao's_anime.ipynb\" target=\"_parent\"><img src=\"https://colab.research.google.com/assets/colab-badge.svg\" alt=\"Open In Colab\"/></a>"
      ]
    },
    {
      "cell_type": "markdown",
      "metadata": {
        "id": "n2lHZhcg7WqA"
      },
      "source": [
        "# セットアップ"
      ]
    },
    {
      "cell_type": "code",
      "source": [
        "#@title install cuda10.0 \n",
        "\n",
        "# download data\n",
        "!wget https://developer.download.nvidia.com/compute/cuda/repos/ubuntu1804/x86_64/cuda-repo-ubuntu1804_10.0.130-1_amd64.deb\n",
        "!sudo dpkg -i cuda-repo-ubuntu1804_10.0.130-1_amd64.deb\n",
        "!rm /etc/apt/sources.list.d/cuda.list\n",
        "!sudo apt-key adv --fetch-keys https://developer.download.nvidia.com/compute/cuda/repos/ubuntu1804/x86_64/7fa2af80.pub\n",
        "!sudo apt-get update\n",
        "!wget http://developer.download.nvidia.com/compute/machine-learning/repos/ubuntu1804/x86_64/nvidia-machine-learning-repo-ubuntu1804_1.0.0-1_amd64.deb\n",
        "!sudo apt install -y ./nvidia-machine-learning-repo-ubuntu1804_1.0.0-1_amd64.deb\n",
        "!sudo apt-get update\n",
        "\n",
        "# install NVIDIA driver\n",
        "!sudo apt-get -y installnvidia-driver-418\n",
        "\n",
        "# install cuda10.0\n",
        "!sudo apt-get install -y \\\n",
        "    cuda-10-0 \\\n",
        "    libcudnn7=7.6.2.24-1+cuda10.0  \\\n",
        "    libcudnn7-dev=7.6.2.24-1+cuda10.0\n",
        "\n",
        "# install TensorRT\n",
        "!sudo apt-get install -y libnvinfer5=5.1.5-1+cuda10.0 \\\n",
        "    libnvinfer-dev=5.1.5-1+cuda10.0\n",
        "\n",
        "!apt --fix-broken install"
      ],
      "metadata": {
        "id": "hiYrQ22tCFur"
      },
      "execution_count": null,
      "outputs": []
    },
    {
      "cell_type": "code",
      "execution_count": null,
      "metadata": {
        "id": "Ixs37iA-Mxf2"
      },
      "outputs": [],
      "source": [
        "# github からコードをコピー\n",
        "!git clone https://github.com/cedro3/stylegan2.git "
      ]
    },
    {
      "cell_type": "code",
      "execution_count": null,
      "metadata": {
        "id": "DQAEErakpkF2"
      },
      "outputs": [],
      "source": [
        "# 学習済みの重みのダウンロード\n",
        "import gdown\n",
        "gdown.download('https://drive.google.com/u/1/uc?id=1_NUX9_xRGjce1KbCxT4frUsFWctlN4ZC', 'network-tadne.pkl', quiet=False)"
      ]
    },
    {
      "cell_type": "code",
      "execution_count": null,
      "metadata": {
        "id": "w_diRM7Fn1Pa"
      },
      "outputs": [],
      "source": [
        "# TensorFlow_plugin セッティングと関数定義\n",
        "!pip install tensorflow==1.15.0\n",
        "!pip install imageio==2.4.1\n",
        "%cd /content/stylegan2\n",
        "from function import *"
      ]
    },
    {
      "cell_type": "markdown",
      "metadata": {
        "id": "KtFqrtBy7wh9"
      },
      "source": [
        "# seedで指定した2枚の画像をブレンドした画像を生成する"
      ]
    },
    {
      "cell_type": "code",
      "execution_count": null,
      "metadata": {
        "id": "W3l5K4JROS0g"
      },
      "outputs": [],
      "source": [
        "# seedで指定した2枚の画像をブレンドした画像を生成する \n",
        "src_seed =  6677  \n",
        "dst_seed =  7561  \n",
        "blending = 0.5 \n",
        "truncation_psi = 0.8 \n",
        "generate_images([src_seed, dst_seed], truncation_psi)\n",
        "\n",
        "print(\"Blended image (\", blending, \")\")\n",
        "blend_images(src_seed, dst_seed, blending=blending, truncation_psi=truncation_psi)"
      ]
    },
    {
      "cell_type": "markdown",
      "metadata": {
        "id": "7JCxBM40CESP"
      },
      "source": [
        "# seedで指定した2枚の画像をモーフィングする動画を生成する"
      ]
    },
    {
      "cell_type": "code",
      "execution_count": null,
      "metadata": {
        "id": "u1TQISpYKR1P"
      },
      "outputs": [],
      "source": [
        "# seedで指定した2枚の画像をモーフィングする動画を生成する \n",
        "src_seed =  5126\n",
        "dst_seed =  5805\n",
        "truncation_psi = 0.7 \n",
        "duration_sec = 5.0 \n",
        "mp4_fps = 20\n",
        "\n",
        "generate_images([src_seed, dst_seed], truncation_psi)\n",
        "output_filename = interpolate_between_seeds(seed_array=[src_seed, dst_seed], truncation=truncation_psi, duration_sec=duration_sec, mp4_fps=mp4_fps)"
      ]
    },
    {
      "cell_type": "code",
      "execution_count": null,
      "metadata": {
        "id": "5mSf3mcD-168"
      },
      "outputs": [],
      "source": [
        "# 生成した動画を再生する\n",
        "display_mp4(output_filename)"
      ]
    },
    {
      "cell_type": "markdown",
      "metadata": {
        "id": "g4jjW6B4-c2c"
      },
      "source": [
        "# ランダムにグリッドでモーフィング画像を生成する"
      ]
    },
    {
      "cell_type": "code",
      "execution_count": null,
      "metadata": {
        "id": "IUnU05mr4edb"
      },
      "outputs": [],
      "source": [
        "# ランダムにグリッドでモーフィング画像を生成する \n",
        "random_seed = 822  \n",
        "duration_sec = 5 \n",
        "mp4_fps = 30 \n",
        "grid_width =  2\n",
        "grid_height =  2\n",
        "\n",
        "output_filename = make_video(grid_size=[grid_width,grid_height], duration_sec=duration_sec, mp4_fps=mp4_fps, random_seed=random_seed)"
      ]
    },
    {
      "cell_type": "code",
      "execution_count": null,
      "metadata": {
        "id": "nktZUA7x_LFD"
      },
      "outputs": [],
      "source": [
        "# 生成した動画を再生する\n",
        "display_mp4(output_filename)"
      ]
    }
  ],
  "metadata": {
    "accelerator": "GPU",
    "colab": {
      "collapsed_sections": [],
      "provenance": [],
      "include_colab_link": true
    },
    "kernelspec": {
      "display_name": "Python 3",
      "language": "python",
      "name": "python3"
    },
    "language_info": {
      "codemirror_mode": {
        "name": "ipython",
        "version": 3
      },
      "file_extension": ".py",
      "mimetype": "text/x-python",
      "name": "python",
      "nbconvert_exporter": "python",
      "pygments_lexer": "ipython3",
      "version": "3.7.9"
    }
  },
  "nbformat": 4,
  "nbformat_minor": 0
}